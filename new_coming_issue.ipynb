{
  "cells": [
    {
      "cell_type": "code",
      "execution_count": 9,
      "metadata": {
        "id": "Ekmu7yVO81SD"
      },
      "outputs": [
        {
          "name": "stderr",
          "output_type": "stream",
          "text": [
            "Some weights of the model checkpoint at bert-base-uncased were not used when initializing BertModel: ['cls.predictions.transform.dense.weight', 'cls.predictions.transform.dense.bias', 'cls.predictions.transform.LayerNorm.bias', 'cls.seq_relationship.bias', 'cls.predictions.transform.LayerNorm.weight', 'cls.predictions.bias', 'cls.seq_relationship.weight']\n",
            "- This IS expected if you are initializing BertModel from the checkpoint of a model trained on another task or with another architecture (e.g. initializing a BertForSequenceClassification model from a BertForPreTraining model).\n",
            "- This IS NOT expected if you are initializing BertModel from the checkpoint of a model that you expect to be exactly identical (initializing a BertForSequenceClassification model from a BertForSequenceClassification model).\n"
          ]
        }
      ],
      "source": [
        "from sklearn.metrics.pairwise import cosine_similarity\n",
        "import pandas as pd\n",
        "import numpy as np\n",
        "import torch\n",
        "from transformers import BertTokenizer, BertModel\n",
        "import pickle\n",
        "\n",
        "# Load the model\n",
        "tokenizer = BertTokenizer.from_pretrained('bert-base-uncased')\n",
        "model = BertModel.from_pretrained('bert-base-uncased')\n",
        "\n",
        "\n",
        "repo_name = \"ckeditor5\"\n",
        "\n",
        "#load centroid array pickle\n",
        "centroid_arr = pickle.load(open('ckeditor5_centroid_arr.pkl', 'rb'))\n",
        "#load cluster dataframe\n",
        "df = pd.read_csv('data/clustered_data_' + repo_name + '.csv')\n",
        "\n",
        "def assign_new_coming_issue_to_cluster(text:str):\n",
        "    \"\"\"Takes text as input which is issue title + body in concatenated form\n",
        "    Outputs the cluster that the issue should be assigned to\"\"\"\n",
        "\n",
        "    # Tokenize and encode the texts\n",
        "    tokens = tokenizer(text, return_tensors='pt', padding=True, truncation=True, max_length=512)\n",
        "\n",
        "    # Forward pass, get hidden states\n",
        "    with torch.no_grad():\n",
        "        output = model(**tokens)\n",
        "\n",
        "    # Take the output embeddings from the last layer\n",
        "    last_hidden_states = output.last_hidden_state\n",
        "\n",
        "    # Pooling strategy: Take the mean of all token embeddings\n",
        "    mean_embeddings = torch.mean(last_hidden_states, dim=1)\n",
        "    distance_arr = []\n",
        "    for centroid in centroid_arr:\n",
        "        distance_arr.append(np.linalg.norm(np.array(mean_embeddings[0]) - centroid))\n",
        "    distance_arr = np.array(distance_arr)\n",
        "\n",
        "    # Find the closest cluster\n",
        "    assigned_cluster = np.argmin(distance_arr)\n",
        "    return assigned_cluster"
      ]
    },
    {
      "cell_type": "code",
      "execution_count": 10,
      "metadata": {
        "id": "kNC112gnR6Ka"
      },
      "outputs": [
        {
          "name": "stdout",
          "output_type": "stream",
          "text": [
            "30\n",
            "14\n",
            "16\n"
          ]
        }
      ],
      "source": [
        "# Try with some of the issues to see it works nicely\n",
        "print(assign_new_coming_issue_to_cluster(df['Combined Text'][0]))\n",
        "print(assign_new_coming_issue_to_cluster(df['Combined Text'][1]))\n",
        "print(assign_new_coming_issue_to_cluster(df['Combined Text'][2]))"
      ]
    },
    {
      "cell_type": "code",
      "execution_count": 12,
      "metadata": {},
      "outputs": [
        {
          "name": "stdout",
          "output_type": "stream",
          "text": [
            "30\n",
            "14\n",
            "16\n"
          ]
        }
      ],
      "source": [
        "#print their original cluster\n",
        "print(df['Cluster'][0])\n",
        "print(df['Cluster'][1])\n",
        "print(df['Cluster'][2])"
      ]
    },
    {
      "cell_type": "code",
      "execution_count": null,
      "metadata": {},
      "outputs": [],
      "source": []
    }
  ],
  "metadata": {
    "colab": {
      "provenance": []
    },
    "kernelspec": {
      "display_name": "Python 3",
      "name": "python3"
    },
    "language_info": {
      "codemirror_mode": {
        "name": "ipython",
        "version": 3
      },
      "file_extension": ".py",
      "mimetype": "text/x-python",
      "name": "python",
      "nbconvert_exporter": "python",
      "pygments_lexer": "ipython3",
      "version": "3.9.12"
    }
  },
  "nbformat": 4,
  "nbformat_minor": 0
}
